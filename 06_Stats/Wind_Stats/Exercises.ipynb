{
 "cells": [
  {
   "cell_type": "markdown",
   "metadata": {},
   "source": [
    "# Wind Statistics"
   ]
  },
  {
   "cell_type": "markdown",
   "metadata": {},
   "source": [
    "### Introduction:\n",
    "\n",
    "The data have been modified to contain some missing values, identified by NaN.  \n",
    "Using pandas should make this exercise\n",
    "easier, in particular for the bonus question.\n",
    "\n",
    "You should be able to perform all of these operations without using\n",
    "a for loop or other looping construct.\n",
    "\n",
    "\n",
    "1. The data in 'wind.data' has the following format:"
   ]
  },
  {
   "cell_type": "code",
   "execution_count": 1,
   "metadata": {
    "collapsed": false
   },
   "outputs": [
    {
     "output_type": "execute_result",
     "data": {
      "text/plain": "'\\nYr Mo Dy   RPT   VAL   ROS   KIL   SHA   BIR   DUB   CLA   MUL   CLO   BEL   MAL\\n61  1  1 15.04 14.96 13.17  9.29   NaN  9.87 13.67 10.25 10.83 12.58 18.50 15.04\\n61  1  2 14.71   NaN 10.83  6.50 12.62  7.67 11.50 10.04  9.79  9.67 17.54 13.83\\n61  1  3 18.50 16.88 12.33 10.13 11.17  6.17 11.25   NaN  8.50  7.67 12.75 12.71\\n'"
     },
     "metadata": {},
     "execution_count": 1
    }
   ],
   "source": [
    "\"\"\"\n",
    "Yr Mo Dy   RPT   VAL   ROS   KIL   SHA   BIR   DUB   CLA   MUL   CLO   BEL   MAL\n",
    "61  1  1 15.04 14.96 13.17  9.29   NaN  9.87 13.67 10.25 10.83 12.58 18.50 15.04\n",
    "61  1  2 14.71   NaN 10.83  6.50 12.62  7.67 11.50 10.04  9.79  9.67 17.54 13.83\n",
    "61  1  3 18.50 16.88 12.33 10.13 11.17  6.17 11.25   NaN  8.50  7.67 12.75 12.71\n",
    "\"\"\""
   ]
  },
  {
   "cell_type": "markdown",
   "metadata": {},
   "source": [
    "   The first three columns are year, month and day.  The\n",
    "   remaining 12 columns are average windspeeds in knots at 12\n",
    "   locations in Ireland on that day.   \n",
    "\n",
    "   More information about the dataset go [here](wind.desc)."
   ]
  },
  {
   "cell_type": "markdown",
   "metadata": {
    "collapsed": false
   },
   "source": [
    "### Step 1. Import the necessary libraries"
   ]
  },
  {
   "cell_type": "code",
   "execution_count": 2,
   "metadata": {
    "collapsed": false
   },
   "outputs": [],
   "source": [
    "import pandas as pd\n",
    "import numpy as np"
   ]
  },
  {
   "cell_type": "markdown",
   "metadata": {},
   "source": [
    "### Step 2. Import the dataset from this [address](https://raw.githubusercontent.com/guipsamora/pandas_exercises/master/06_Stats/Wind_Stats/wind.data)"
   ]
  },
  {
   "cell_type": "markdown",
   "metadata": {},
   "source": [
    "### Step 3. Assign it to a variable called data and replace the first 3 columns by a proper datetime index."
   ]
  },
  {
   "cell_type": "code",
   "execution_count": 3,
   "metadata": {
    "collapsed": false
   },
   "outputs": [
    {
     "output_type": "execute_result",
     "data": {
      "text/plain": "     Yr_Mo_Dy    RPT    VAL    ROS    KIL    SHA    BIR    DUB    CLA    MUL  \\\n0  2061-01-01  15.04  14.96  13.17   9.29    NaN   9.87  13.67  10.25  10.83   \n1  2061-01-02  14.71    NaN  10.83   6.50  12.62   7.67  11.50  10.04   9.79   \n2  2061-01-03  18.50  16.88  12.33  10.13  11.17   6.17  11.25    NaN   8.50   \n3  2061-01-04  10.58   6.63  11.75   4.58   4.54   2.88   8.63   1.79   5.83   \n4  2061-01-05  13.33  13.25  11.42   6.17  10.71   8.21  11.92   6.54  10.92   \n5  2061-01-06  13.21   8.12   9.96   6.67   5.37   4.50  10.67   4.42   7.17   \n6  2061-01-07  13.50  14.29   9.50   4.96  12.29   8.33   9.17   9.29   7.58   \n7  2061-01-08  10.96   9.75   7.62   5.91   9.62   7.29  14.29   7.62   9.25   \n8  2061-01-09  12.58  10.83  10.00   4.75  10.37   6.79   8.04  10.13   7.79   \n9  2061-01-10  13.37  11.12  19.50   8.33   9.71   6.54  11.42   7.79   8.54   \n10 2061-01-11  10.58   9.87   8.42   2.79   8.71   7.25   7.54   8.33   5.71   \n11 2061-01-12  19.75  12.08  18.50  10.54  10.29   9.46  15.54  11.50  10.37   \n12 2061-01-13   9.92   3.54   8.46   2.96   2.29   0.96   4.63   0.58   2.33   \n13 2061-01-14   9.04   5.66   7.08   0.67   2.71   1.38   3.08   2.58   0.50   \n14 2061-01-15  12.04   9.67  11.75   2.37   7.38   3.13   2.50   6.83   4.75   \n15 2061-01-16  16.42  11.25  15.67   4.71  11.34   6.92   9.25   8.79   8.21   \n16 2061-01-17  17.75  14.37  17.33  10.13  13.96  13.37  13.42  11.04   8.71   \n17 2061-01-18  19.83  12.04  20.79  18.54    NaN  10.29  17.83  11.38  14.67   \n18 2061-01-19   4.92   3.42   7.29   1.04   3.67   3.17   3.71   2.79   1.92   \n19 2061-01-20   9.59  11.83   7.96   1.58   7.92   5.00   3.17   4.92   3.13   \n\n      CLO    BEL    MAL  \n0   12.58  18.50  15.04  \n1    9.67  17.54  13.83  \n2    7.67  12.75  12.71  \n3    5.88   5.46  10.88  \n4   10.34  12.92  11.83  \n5    7.50   8.12  13.17  \n6    7.96  13.96  13.79  \n7   10.46  16.62  16.46  \n8    9.08  13.04  15.37  \n9    9.00   8.58  11.83  \n10   8.67  20.71  16.92  \n11  14.58  15.59  14.09  \n12   3.37   5.25   7.04  \n13   2.67   7.17   5.17  \n14   5.63   7.54   6.75  \n15   7.33  13.04   9.04  \n16  11.38  15.92  16.08  \n17  16.71   8.79  17.96  \n18   2.71   6.87   7.83  \n19   3.37   6.50   6.79  ",
      "text/html": "<div>\n<style scoped>\n    .dataframe tbody tr th:only-of-type {\n        vertical-align: middle;\n    }\n\n    .dataframe tbody tr th {\n        vertical-align: top;\n    }\n\n    .dataframe thead th {\n        text-align: right;\n    }\n</style>\n<table border=\"1\" class=\"dataframe\">\n  <thead>\n    <tr style=\"text-align: right;\">\n      <th></th>\n      <th>Yr_Mo_Dy</th>\n      <th>RPT</th>\n      <th>VAL</th>\n      <th>ROS</th>\n      <th>KIL</th>\n      <th>SHA</th>\n      <th>BIR</th>\n      <th>DUB</th>\n      <th>CLA</th>\n      <th>MUL</th>\n      <th>CLO</th>\n      <th>BEL</th>\n      <th>MAL</th>\n    </tr>\n  </thead>\n  <tbody>\n    <tr>\n      <td>0</td>\n      <td>2061-01-01</td>\n      <td>15.04</td>\n      <td>14.96</td>\n      <td>13.17</td>\n      <td>9.29</td>\n      <td>NaN</td>\n      <td>9.87</td>\n      <td>13.67</td>\n      <td>10.25</td>\n      <td>10.83</td>\n      <td>12.58</td>\n      <td>18.50</td>\n      <td>15.04</td>\n    </tr>\n    <tr>\n      <td>1</td>\n      <td>2061-01-02</td>\n      <td>14.71</td>\n      <td>NaN</td>\n      <td>10.83</td>\n      <td>6.50</td>\n      <td>12.62</td>\n      <td>7.67</td>\n      <td>11.50</td>\n      <td>10.04</td>\n      <td>9.79</td>\n      <td>9.67</td>\n      <td>17.54</td>\n      <td>13.83</td>\n    </tr>\n    <tr>\n      <td>2</td>\n      <td>2061-01-03</td>\n      <td>18.50</td>\n      <td>16.88</td>\n      <td>12.33</td>\n      <td>10.13</td>\n      <td>11.17</td>\n      <td>6.17</td>\n      <td>11.25</td>\n      <td>NaN</td>\n      <td>8.50</td>\n      <td>7.67</td>\n      <td>12.75</td>\n      <td>12.71</td>\n    </tr>\n    <tr>\n      <td>3</td>\n      <td>2061-01-04</td>\n      <td>10.58</td>\n      <td>6.63</td>\n      <td>11.75</td>\n      <td>4.58</td>\n      <td>4.54</td>\n      <td>2.88</td>\n      <td>8.63</td>\n      <td>1.79</td>\n      <td>5.83</td>\n      <td>5.88</td>\n      <td>5.46</td>\n      <td>10.88</td>\n    </tr>\n    <tr>\n      <td>4</td>\n      <td>2061-01-05</td>\n      <td>13.33</td>\n      <td>13.25</td>\n      <td>11.42</td>\n      <td>6.17</td>\n      <td>10.71</td>\n      <td>8.21</td>\n      <td>11.92</td>\n      <td>6.54</td>\n      <td>10.92</td>\n      <td>10.34</td>\n      <td>12.92</td>\n      <td>11.83</td>\n    </tr>\n    <tr>\n      <td>5</td>\n      <td>2061-01-06</td>\n      <td>13.21</td>\n      <td>8.12</td>\n      <td>9.96</td>\n      <td>6.67</td>\n      <td>5.37</td>\n      <td>4.50</td>\n      <td>10.67</td>\n      <td>4.42</td>\n      <td>7.17</td>\n      <td>7.50</td>\n      <td>8.12</td>\n      <td>13.17</td>\n    </tr>\n    <tr>\n      <td>6</td>\n      <td>2061-01-07</td>\n      <td>13.50</td>\n      <td>14.29</td>\n      <td>9.50</td>\n      <td>4.96</td>\n      <td>12.29</td>\n      <td>8.33</td>\n      <td>9.17</td>\n      <td>9.29</td>\n      <td>7.58</td>\n      <td>7.96</td>\n      <td>13.96</td>\n      <td>13.79</td>\n    </tr>\n    <tr>\n      <td>7</td>\n      <td>2061-01-08</td>\n      <td>10.96</td>\n      <td>9.75</td>\n      <td>7.62</td>\n      <td>5.91</td>\n      <td>9.62</td>\n      <td>7.29</td>\n      <td>14.29</td>\n      <td>7.62</td>\n      <td>9.25</td>\n      <td>10.46</td>\n      <td>16.62</td>\n      <td>16.46</td>\n    </tr>\n    <tr>\n      <td>8</td>\n      <td>2061-01-09</td>\n      <td>12.58</td>\n      <td>10.83</td>\n      <td>10.00</td>\n      <td>4.75</td>\n      <td>10.37</td>\n      <td>6.79</td>\n      <td>8.04</td>\n      <td>10.13</td>\n      <td>7.79</td>\n      <td>9.08</td>\n      <td>13.04</td>\n      <td>15.37</td>\n    </tr>\n    <tr>\n      <td>9</td>\n      <td>2061-01-10</td>\n      <td>13.37</td>\n      <td>11.12</td>\n      <td>19.50</td>\n      <td>8.33</td>\n      <td>9.71</td>\n      <td>6.54</td>\n      <td>11.42</td>\n      <td>7.79</td>\n      <td>8.54</td>\n      <td>9.00</td>\n      <td>8.58</td>\n      <td>11.83</td>\n    </tr>\n    <tr>\n      <td>10</td>\n      <td>2061-01-11</td>\n      <td>10.58</td>\n      <td>9.87</td>\n      <td>8.42</td>\n      <td>2.79</td>\n      <td>8.71</td>\n      <td>7.25</td>\n      <td>7.54</td>\n      <td>8.33</td>\n      <td>5.71</td>\n      <td>8.67</td>\n      <td>20.71</td>\n      <td>16.92</td>\n    </tr>\n    <tr>\n      <td>11</td>\n      <td>2061-01-12</td>\n      <td>19.75</td>\n      <td>12.08</td>\n      <td>18.50</td>\n      <td>10.54</td>\n      <td>10.29</td>\n      <td>9.46</td>\n      <td>15.54</td>\n      <td>11.50</td>\n      <td>10.37</td>\n      <td>14.58</td>\n      <td>15.59</td>\n      <td>14.09</td>\n    </tr>\n    <tr>\n      <td>12</td>\n      <td>2061-01-13</td>\n      <td>9.92</td>\n      <td>3.54</td>\n      <td>8.46</td>\n      <td>2.96</td>\n      <td>2.29</td>\n      <td>0.96</td>\n      <td>4.63</td>\n      <td>0.58</td>\n      <td>2.33</td>\n      <td>3.37</td>\n      <td>5.25</td>\n      <td>7.04</td>\n    </tr>\n    <tr>\n      <td>13</td>\n      <td>2061-01-14</td>\n      <td>9.04</td>\n      <td>5.66</td>\n      <td>7.08</td>\n      <td>0.67</td>\n      <td>2.71</td>\n      <td>1.38</td>\n      <td>3.08</td>\n      <td>2.58</td>\n      <td>0.50</td>\n      <td>2.67</td>\n      <td>7.17</td>\n      <td>5.17</td>\n    </tr>\n    <tr>\n      <td>14</td>\n      <td>2061-01-15</td>\n      <td>12.04</td>\n      <td>9.67</td>\n      <td>11.75</td>\n      <td>2.37</td>\n      <td>7.38</td>\n      <td>3.13</td>\n      <td>2.50</td>\n      <td>6.83</td>\n      <td>4.75</td>\n      <td>5.63</td>\n      <td>7.54</td>\n      <td>6.75</td>\n    </tr>\n    <tr>\n      <td>15</td>\n      <td>2061-01-16</td>\n      <td>16.42</td>\n      <td>11.25</td>\n      <td>15.67</td>\n      <td>4.71</td>\n      <td>11.34</td>\n      <td>6.92</td>\n      <td>9.25</td>\n      <td>8.79</td>\n      <td>8.21</td>\n      <td>7.33</td>\n      <td>13.04</td>\n      <td>9.04</td>\n    </tr>\n    <tr>\n      <td>16</td>\n      <td>2061-01-17</td>\n      <td>17.75</td>\n      <td>14.37</td>\n      <td>17.33</td>\n      <td>10.13</td>\n      <td>13.96</td>\n      <td>13.37</td>\n      <td>13.42</td>\n      <td>11.04</td>\n      <td>8.71</td>\n      <td>11.38</td>\n      <td>15.92</td>\n      <td>16.08</td>\n    </tr>\n    <tr>\n      <td>17</td>\n      <td>2061-01-18</td>\n      <td>19.83</td>\n      <td>12.04</td>\n      <td>20.79</td>\n      <td>18.54</td>\n      <td>NaN</td>\n      <td>10.29</td>\n      <td>17.83</td>\n      <td>11.38</td>\n      <td>14.67</td>\n      <td>16.71</td>\n      <td>8.79</td>\n      <td>17.96</td>\n    </tr>\n    <tr>\n      <td>18</td>\n      <td>2061-01-19</td>\n      <td>4.92</td>\n      <td>3.42</td>\n      <td>7.29</td>\n      <td>1.04</td>\n      <td>3.67</td>\n      <td>3.17</td>\n      <td>3.71</td>\n      <td>2.79</td>\n      <td>1.92</td>\n      <td>2.71</td>\n      <td>6.87</td>\n      <td>7.83</td>\n    </tr>\n    <tr>\n      <td>19</td>\n      <td>2061-01-20</td>\n      <td>9.59</td>\n      <td>11.83</td>\n      <td>7.96</td>\n      <td>1.58</td>\n      <td>7.92</td>\n      <td>5.00</td>\n      <td>3.17</td>\n      <td>4.92</td>\n      <td>3.13</td>\n      <td>3.37</td>\n      <td>6.50</td>\n      <td>6.79</td>\n    </tr>\n  </tbody>\n</table>\n</div>"
     },
     "metadata": {},
     "execution_count": 3
    }
   ],
   "source": [
    "date_columns = ['Yr','Mo','Dy']\n",
    "data = pd.read_csv(\"https://raw.githubusercontent.com/guipsamora/pandas_exercises/master/06_Stats/Wind_Stats/wind.data\", sep = \"\\s+\", parse_dates = [[0,1,2]])\n",
    "data.head(20)\n"
   ]
  },
  {
   "cell_type": "markdown",
   "metadata": {},
   "source": [
    "### Step 4. Year 2061? Do we really have data from this year? Create a function to fix it and apply it."
   ]
  },
  {
   "cell_type": "code",
   "execution_count": 5,
   "metadata": {
    "collapsed": false
   },
   "outputs": [],
   "source": [
    "def fix_date(x):\n",
    "    year = x.year - 100 \n",
    "    return datetime.date(year, x.month, x.day)"
   ]
  },
  {
   "cell_type": "markdown",
   "metadata": {},
   "source": [
    "### Step 5. Set the right dates as the index. Pay attention at the data type, it should be datetime64[ns]."
   ]
  },
  {
   "cell_type": "code",
   "execution_count": null,
   "metadata": {
    "collapsed": false
   },
   "outputs": [],
   "source": []
  },
  {
   "cell_type": "markdown",
   "metadata": {},
   "source": [
    "### Step 6. Compute how many values are missing for each location over the entire record.  \n",
    "#### They should be ignored in all calculations below. "
   ]
  },
  {
   "cell_type": "code",
   "execution_count": null,
   "metadata": {
    "collapsed": false
   },
   "outputs": [],
   "source": []
  },
  {
   "cell_type": "markdown",
   "metadata": {},
   "source": [
    "### Step 7. Compute how many non-missing values there are in total."
   ]
  },
  {
   "cell_type": "code",
   "execution_count": null,
   "metadata": {
    "collapsed": false,
    "scrolled": true
   },
   "outputs": [],
   "source": []
  },
  {
   "cell_type": "markdown",
   "metadata": {},
   "source": [
    "### Step 8. Calculate the mean windspeeds of the windspeeds over all the locations and all the times.\n",
    "#### A single number for the entire dataset."
   ]
  },
  {
   "cell_type": "code",
   "execution_count": null,
   "metadata": {
    "collapsed": false
   },
   "outputs": [],
   "source": []
  },
  {
   "cell_type": "markdown",
   "metadata": {},
   "source": [
    "### Step 9. Create a DataFrame called loc_stats and calculate the min, max and mean windspeeds and standard deviations of the windspeeds at each location over all the days \n",
    "\n",
    "#### A different set of numbers for each location."
   ]
  },
  {
   "cell_type": "code",
   "execution_count": null,
   "metadata": {
    "collapsed": false
   },
   "outputs": [],
   "source": []
  },
  {
   "cell_type": "markdown",
   "metadata": {},
   "source": [
    "### Step 10. Create a DataFrame called day_stats and calculate the min, max and mean windspeed and standard deviations of the windspeeds across all the locations at each day.\n",
    "\n",
    "#### A different set of numbers for each day."
   ]
  },
  {
   "cell_type": "code",
   "execution_count": null,
   "metadata": {
    "collapsed": false
   },
   "outputs": [],
   "source": []
  },
  {
   "cell_type": "markdown",
   "metadata": {},
   "source": [
    "### Step 11. Find the average windspeed in January for each location.  \n",
    "#### Treat January 1961 and January 1962 both as January."
   ]
  },
  {
   "cell_type": "code",
   "execution_count": null,
   "metadata": {
    "collapsed": false
   },
   "outputs": [],
   "source": []
  },
  {
   "cell_type": "markdown",
   "metadata": {},
   "source": [
    "### Step 12. Downsample the record to a yearly frequency for each location."
   ]
  },
  {
   "cell_type": "code",
   "execution_count": null,
   "metadata": {
    "collapsed": false
   },
   "outputs": [],
   "source": []
  },
  {
   "cell_type": "markdown",
   "metadata": {},
   "source": [
    "### Step 13. Downsample the record to a monthly frequency for each location."
   ]
  },
  {
   "cell_type": "code",
   "execution_count": null,
   "metadata": {
    "collapsed": false
   },
   "outputs": [],
   "source": []
  },
  {
   "cell_type": "markdown",
   "metadata": {},
   "source": [
    "### Step 14. Downsample the record to a weekly frequency for each location."
   ]
  },
  {
   "cell_type": "code",
   "execution_count": null,
   "metadata": {
    "collapsed": false
   },
   "outputs": [],
   "source": []
  },
  {
   "cell_type": "markdown",
   "metadata": {},
   "source": [
    "### Step 15. Calculate the min, max and mean windspeeds and standard deviations of the windspeeds across all locations for each week (assume that the first week starts on January 2 1961) for the first 52 weeks."
   ]
  },
  {
   "cell_type": "code",
   "execution_count": null,
   "metadata": {
    "collapsed": false
   },
   "outputs": [],
   "source": []
  }
 ],
 "metadata": {
  "anaconda-cloud": {},
  "kernelspec": {
   "display_name": "Python 3",
   "language": "python",
   "name": "python3"
  },
  "language_info": {
   "codemirror_mode": {
    "name": "ipython",
    "version": 2
   },
   "file_extension": ".py",
   "mimetype": "text/x-python",
   "name": "python",
   "nbconvert_exporter": "python",
   "pygments_lexer": "ipython2",
   "version": "3.7.4-final"
  }
 },
 "nbformat": 4,
 "nbformat_minor": 0
}