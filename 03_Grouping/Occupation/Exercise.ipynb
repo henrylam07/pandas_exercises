{
 "cells": [
  {
   "cell_type": "markdown",
   "metadata": {},
   "source": [
    "# Occupation"
   ]
  },
  {
   "cell_type": "markdown",
   "metadata": {},
   "source": [
    "### Introduction:\n",
    "\n",
    "Special thanks to: https://github.com/justmarkham for sharing the dataset and materials.\n",
    "\n",
    "### Step 1. Import the necessary libraries"
   ]
  },
  {
   "cell_type": "code",
   "execution_count": 2,
   "metadata": {
    "collapsed": false
   },
   "outputs": [],
   "source": [
    "import pandas as pd\n",
    "import numpy as np"
   ]
  },
  {
   "cell_type": "markdown",
   "metadata": {},
   "source": [
    "### Step 2. Import the dataset from this [address](https://raw.githubusercontent.com/justmarkham/DAT8/master/data/u.user). "
   ]
  },
  {
   "cell_type": "markdown",
   "metadata": {},
   "source": [
    "### Step 3. Assign it to a variable called users."
   ]
  },
  {
   "cell_type": "code",
   "execution_count": 6,
   "metadata": {
    "collapsed": false
   },
   "outputs": [
    {
     "output_type": "execute_result",
     "data": {
      "text/plain": "     user_id  age gender     occupation zip_code\n0          1   24      M     technician    85711\n1          2   53      F          other    94043\n2          3   23      M         writer    32067\n3          4   24      M     technician    43537\n4          5   33      F          other    15213\n..       ...  ...    ...            ...      ...\n938      939   26      F        student    33319\n939      940   32      M  administrator    02215\n940      941   20      M        student    97229\n941      942   48      F      librarian    78209\n942      943   22      M        student    77841\n\n[943 rows x 5 columns]",
      "text/html": "<div>\n<style scoped>\n    .dataframe tbody tr th:only-of-type {\n        vertical-align: middle;\n    }\n\n    .dataframe tbody tr th {\n        vertical-align: top;\n    }\n\n    .dataframe thead th {\n        text-align: right;\n    }\n</style>\n<table border=\"1\" class=\"dataframe\">\n  <thead>\n    <tr style=\"text-align: right;\">\n      <th></th>\n      <th>user_id</th>\n      <th>age</th>\n      <th>gender</th>\n      <th>occupation</th>\n      <th>zip_code</th>\n    </tr>\n  </thead>\n  <tbody>\n    <tr>\n      <td>0</td>\n      <td>1</td>\n      <td>24</td>\n      <td>M</td>\n      <td>technician</td>\n      <td>85711</td>\n    </tr>\n    <tr>\n      <td>1</td>\n      <td>2</td>\n      <td>53</td>\n      <td>F</td>\n      <td>other</td>\n      <td>94043</td>\n    </tr>\n    <tr>\n      <td>2</td>\n      <td>3</td>\n      <td>23</td>\n      <td>M</td>\n      <td>writer</td>\n      <td>32067</td>\n    </tr>\n    <tr>\n      <td>3</td>\n      <td>4</td>\n      <td>24</td>\n      <td>M</td>\n      <td>technician</td>\n      <td>43537</td>\n    </tr>\n    <tr>\n      <td>4</td>\n      <td>5</td>\n      <td>33</td>\n      <td>F</td>\n      <td>other</td>\n      <td>15213</td>\n    </tr>\n    <tr>\n      <td>...</td>\n      <td>...</td>\n      <td>...</td>\n      <td>...</td>\n      <td>...</td>\n      <td>...</td>\n    </tr>\n    <tr>\n      <td>938</td>\n      <td>939</td>\n      <td>26</td>\n      <td>F</td>\n      <td>student</td>\n      <td>33319</td>\n    </tr>\n    <tr>\n      <td>939</td>\n      <td>940</td>\n      <td>32</td>\n      <td>M</td>\n      <td>administrator</td>\n      <td>02215</td>\n    </tr>\n    <tr>\n      <td>940</td>\n      <td>941</td>\n      <td>20</td>\n      <td>M</td>\n      <td>student</td>\n      <td>97229</td>\n    </tr>\n    <tr>\n      <td>941</td>\n      <td>942</td>\n      <td>48</td>\n      <td>F</td>\n      <td>librarian</td>\n      <td>78209</td>\n    </tr>\n    <tr>\n      <td>942</td>\n      <td>943</td>\n      <td>22</td>\n      <td>M</td>\n      <td>student</td>\n      <td>77841</td>\n    </tr>\n  </tbody>\n</table>\n<p>943 rows × 5 columns</p>\n</div>"
     },
     "metadata": {},
     "execution_count": 6
    }
   ],
   "source": [
    "users = pd.read_csv(\"https://raw.githubusercontent.com/justmarkham/DAT8/master/data/u.user\", sep= \"|\")\n",
    "users"
   ]
  },
  {
   "cell_type": "markdown",
   "metadata": {},
   "source": [
    "### Step 4. Discover what is the mean age per occupation"
   ]
  },
  {
   "cell_type": "code",
   "execution_count": 15,
   "metadata": {
    "collapsed": false
   },
   "outputs": [
    {
     "output_type": "execute_result",
     "data": {
      "text/plain": "occupation\nadministrator    39.0\nartist           31.0\ndoctor           44.0\neducator         42.0\nengineer         36.0\nentertainment    29.0\nexecutive        39.0\nhealthcare       42.0\nhomemaker        33.0\nlawyer           37.0\nlibrarian        40.0\nmarketing        38.0\nnone             27.0\nother            35.0\nprogrammer       33.0\nretired          63.0\nsalesman         36.0\nscientist        36.0\nstudent          22.0\ntechnician       33.0\nwriter           36.0\nName: age, dtype: float64"
     },
     "metadata": {},
     "execution_count": 15
    }
   ],
   "source": [
    "round(users.groupby(\"occupation\").age.mean())"
   ]
  },
  {
   "cell_type": "markdown",
   "metadata": {},
   "source": [
    "### Step 5. Discover the Male ratio per occupation and sort it from the most to the least"
   ]
  },
  {
   "cell_type": "code",
   "execution_count": null,
   "metadata": {
    "collapsed": false
   },
   "outputs": [],
   "source": []
  },
  {
   "cell_type": "markdown",
   "metadata": {},
   "source": [
    "### Step 6. For each occupation, calculate the minimum and maximum ages"
   ]
  },
  {
   "cell_type": "code",
   "execution_count": 20,
   "metadata": {
    "collapsed": false
   },
   "outputs": [
    {
     "output_type": "execute_result",
     "data": {
      "text/plain": "               min  max\noccupation             \nadministrator   21   70\nartist          19   48\ndoctor          28   64\neducator        23   63\nengineer        22   70\nentertainment   15   50\nexecutive       22   69\nhealthcare      22   62\nhomemaker       20   50\nlawyer          21   53\nlibrarian       23   69\nmarketing       24   55\nnone            11   55\nother           13   64\nprogrammer      20   63\nretired         51   73\nsalesman        18   66\nscientist       23   55\nstudent          7   42\ntechnician      21   55\nwriter          18   60",
      "text/html": "<div>\n<style scoped>\n    .dataframe tbody tr th:only-of-type {\n        vertical-align: middle;\n    }\n\n    .dataframe tbody tr th {\n        vertical-align: top;\n    }\n\n    .dataframe thead th {\n        text-align: right;\n    }\n</style>\n<table border=\"1\" class=\"dataframe\">\n  <thead>\n    <tr style=\"text-align: right;\">\n      <th></th>\n      <th>min</th>\n      <th>max</th>\n    </tr>\n    <tr>\n      <th>occupation</th>\n      <th></th>\n      <th></th>\n    </tr>\n  </thead>\n  <tbody>\n    <tr>\n      <td>administrator</td>\n      <td>21</td>\n      <td>70</td>\n    </tr>\n    <tr>\n      <td>artist</td>\n      <td>19</td>\n      <td>48</td>\n    </tr>\n    <tr>\n      <td>doctor</td>\n      <td>28</td>\n      <td>64</td>\n    </tr>\n    <tr>\n      <td>educator</td>\n      <td>23</td>\n      <td>63</td>\n    </tr>\n    <tr>\n      <td>engineer</td>\n      <td>22</td>\n      <td>70</td>\n    </tr>\n    <tr>\n      <td>entertainment</td>\n      <td>15</td>\n      <td>50</td>\n    </tr>\n    <tr>\n      <td>executive</td>\n      <td>22</td>\n      <td>69</td>\n    </tr>\n    <tr>\n      <td>healthcare</td>\n      <td>22</td>\n      <td>62</td>\n    </tr>\n    <tr>\n      <td>homemaker</td>\n      <td>20</td>\n      <td>50</td>\n    </tr>\n    <tr>\n      <td>lawyer</td>\n      <td>21</td>\n      <td>53</td>\n    </tr>\n    <tr>\n      <td>librarian</td>\n      <td>23</td>\n      <td>69</td>\n    </tr>\n    <tr>\n      <td>marketing</td>\n      <td>24</td>\n      <td>55</td>\n    </tr>\n    <tr>\n      <td>none</td>\n      <td>11</td>\n      <td>55</td>\n    </tr>\n    <tr>\n      <td>other</td>\n      <td>13</td>\n      <td>64</td>\n    </tr>\n    <tr>\n      <td>programmer</td>\n      <td>20</td>\n      <td>63</td>\n    </tr>\n    <tr>\n      <td>retired</td>\n      <td>51</td>\n      <td>73</td>\n    </tr>\n    <tr>\n      <td>salesman</td>\n      <td>18</td>\n      <td>66</td>\n    </tr>\n    <tr>\n      <td>scientist</td>\n      <td>23</td>\n      <td>55</td>\n    </tr>\n    <tr>\n      <td>student</td>\n      <td>7</td>\n      <td>42</td>\n    </tr>\n    <tr>\n      <td>technician</td>\n      <td>21</td>\n      <td>55</td>\n    </tr>\n    <tr>\n      <td>writer</td>\n      <td>18</td>\n      <td>60</td>\n    </tr>\n  </tbody>\n</table>\n</div>"
     },
     "metadata": {},
     "execution_count": 20
    }
   ],
   "source": [
    "users.groupby('occupation').age.agg(['min','max'])"
   ]
  },
  {
   "cell_type": "markdown",
   "metadata": {},
   "source": [
    "### Step 7. For each combination of occupation and gender, calculate the mean age"
   ]
  },
  {
   "cell_type": "code",
   "execution_count": 23,
   "metadata": {
    "collapsed": false
   },
   "outputs": [
    {
     "output_type": "execute_result",
     "data": {
      "text/plain": "occupation     gender\nadministrator  F         41.0\n               M         37.0\nartist         F         30.0\n               M         32.0\ndoctor         M         44.0\neducator       F         39.0\n               M         43.0\nengineer       F         30.0\n               M         37.0\nentertainment  F         31.0\n               M         29.0\nexecutive      F         44.0\n               M         38.0\nhealthcare     F         40.0\n               M         45.0\nhomemaker      F         34.0\n               M         23.0\nlawyer         F         40.0\n               M         36.0\nlibrarian      F         40.0\n               M         40.0\nmarketing      F         37.0\n               M         38.0\nnone           F         36.0\n               M         19.0\nother          F         35.0\n               M         34.0\nprogrammer     F         32.0\n               M         33.0\nretired        F         70.0\n               M         63.0\nsalesman       F         27.0\n               M         39.0\nscientist      F         28.0\n               M         36.0\nstudent        F         21.0\n               M         23.0\ntechnician     F         38.0\n               M         33.0\nwriter         F         38.0\n               M         35.0\nName: age, dtype: float64"
     },
     "metadata": {},
     "execution_count": 23
    }
   ],
   "source": [
    "round(users.groupby(['occupation','gender']).age.mean())"
   ]
  },
  {
   "cell_type": "markdown",
   "metadata": {},
   "source": [
    "### Step 8.  For each occupation present the percentage of women and men"
   ]
  },
  {
   "cell_type": "code",
   "execution_count": null,
   "metadata": {
    "collapsed": false
   },
   "outputs": [],
   "source": []
  }
 ],
 "metadata": {
  "kernelspec": {
   "display_name": "Python 3",
   "language": "python",
   "name": "python3"
  },
  "language_info": {
   "codemirror_mode": {
    "name": "ipython",
    "version": 2
   },
   "file_extension": ".py",
   "mimetype": "text/x-python",
   "name": "python",
   "nbconvert_exporter": "python",
   "pygments_lexer": "ipython2",
   "version": "3.7.4-final"
  }
 },
 "nbformat": 4,
 "nbformat_minor": 0
}